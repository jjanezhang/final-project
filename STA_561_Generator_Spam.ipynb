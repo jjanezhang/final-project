{
 "cells": [
  {
   "cell_type": "code",
   "execution_count": 1,
   "metadata": {
    "executionInfo": {
     "elapsed": 6024,
     "status": "ok",
     "timestamp": 1650765812507,
     "user": {
      "displayName": "Shyam Venkatasubramanian",
      "userId": "15616447234628228064"
     },
     "user_tz": 240
    },
    "id": "B6d0ya02OtpA"
   },
   "outputs": [],
   "source": [
    "%%capture\n",
    "!pip install tensorflow\n",
    "!pip install keras\n",
    "\n",
    "import numpy as np\n",
    "import pandas as pd\n",
    "import seaborn as sns\n",
    "import matplotlib.pyplot as plt\n",
    "import tensorflow as tf\n",
    "import sklearn as sk\n",
    "import sklearn.model_selection\n",
    "import random\n",
    "import os"
   ]
  },
  {
   "cell_type": "markdown",
   "metadata": {
    "id": "YnUy4uo4IJdL"
   },
   "source": [
    "### Preprocessing"
   ]
  },
  {
   "cell_type": "code",
   "execution_count": 2,
   "metadata": {
    "colab": {
     "base_uri": "https://localhost:8080/"
    },
    "executionInfo": {
     "elapsed": 674,
     "status": "ok",
     "timestamp": 1650765833088,
     "user": {
      "displayName": "Shyam Venkatasubramanian",
      "userId": "15616447234628228064"
     },
     "user_tz": 240
    },
    "id": "7HJbU41kVCL2",
    "outputId": "ea0d8e2d-dac5-415b-b4af-a246620aa4d6"
   },
   "outputs": [
    {
     "name": "stdout",
     "output_type": "stream",
     "text": [
      "0        It's the everything else that's complicated. #...\n",
      "1        Eren sent a glare towards Mikasa then nodded a...\n",
      "2        I posted a new photo to Facebook http://fb.me/...\n",
      "3        #jan Idiot Chelsea Handler Diagnoses Trump Wit...\n",
      "4        Pedophile Anthony Weiner is TERRIFIED of Getti...\n",
      "                               ...                        \n",
      "11963                                     11:11 meet harry\n",
      "11964    If BBC Food disappears the loss of knowledge w...\n",
      "11965    Look What Liberals Did to This Historic Monume...\n",
      "11966    I uploaded a new track, \"Everyday Lite 1\", on ...\n",
      "11967    Trump should be declared the victor by about 9...\n",
      "Name: Tweet, Length: 11968, dtype: object\n"
     ]
    }
   ],
   "source": [
    "df = pd.read_csv('train.csv')\n",
    "print(df['Tweet'])"
   ]
  },
  {
   "cell_type": "code",
   "execution_count": 3,
   "metadata": {
    "executionInfo": {
     "elapsed": 3,
     "status": "ok",
     "timestamp": 1650765833089,
     "user": {
      "displayName": "Shyam Venkatasubramanian",
      "userId": "15616447234628228064"
     },
     "user_tz": 240
    },
    "id": "Bop5YmgDVnWT"
   },
   "outputs": [],
   "source": [
    "import re\n",
    "import string\n",
    "string.punctuation\n",
    "\n",
    "def replace_links(text):\n",
    "  url_regex = \"https?:\\/\\/(?:www\\.|(?!www))[a-zA-Z0-9][a-zA-Z0-9-]+[a-zA-Z0-9]\\.[^\\s]{2,}|www\\.[a-zA-Z0-9][a-zA-Z0-9-]+[a-zA-Z0-9]\\.[^\\s]{2,}|https?:\\/\\/(?:www\\.|(?!www))[a-zA-Z0-9]+\\.[^\\s]{2,}|www\\.[a-zA-Z0-9]+\\.[^\\s]{2,}\"\n",
    "  return re.sub(url_regex, '[URLLINK]', text)"
   ]
  },
  {
   "cell_type": "code",
   "execution_count": 4,
   "metadata": {
    "colab": {
     "base_uri": "https://localhost:8080/"
    },
    "executionInfo": {
     "elapsed": 24251,
     "status": "ok",
     "timestamp": 1650765857338,
     "user": {
      "displayName": "Shyam Venkatasubramanian",
      "userId": "15616447234628228064"
     },
     "user_tz": 240
    },
    "id": "_gaE_m7UWOnM",
    "outputId": "04bd5530-01af-40f5-9f12-406a9277664d"
   },
   "outputs": [
    {
     "name": "stderr",
     "output_type": "stream",
     "text": [
      "[nltk_data] Downloading package stopwords to\n",
      "[nltk_data]     C:\\Users\\OwnerDell\\AppData\\Roaming\\nltk_data...\n",
      "[nltk_data]   Package stopwords is already up-to-date!\n",
      "[nltk_data] Downloading package wordnet to\n",
      "[nltk_data]     C:\\Users\\OwnerDell\\AppData\\Roaming\\nltk_data...\n",
      "[nltk_data]   Package wordnet is already up-to-date!\n"
     ]
    },
    {
     "name": "stdout",
     "output_type": "stream",
     "text": [
      "0        everything else complicated pesummit pxpic twi...\n",
      "1        eren sent glare towards mikasa nodded stood he...\n",
      "2                                posted new photo facebook\n",
      "3        jan idiot chelsea handler diagnoses trump disease\n",
      "4        pedophile anthony weiner terrified getting bea...\n",
      "                               ...                        \n",
      "11963                                           meet harry\n",
      "11964      bbc food disappears loss knowledge catastrophic\n",
      "11965              look liberals historic monument arizona\n",
      "11966    uploaded new track everyday lite spreaker lite...\n",
      "11967    trump declared victor tonight based exit poll ...\n",
      "Name: Tweet, Length: 11968, dtype: object\n",
      "Length of text_not: 1194154 characters\n",
      "Length of text_spam: 1113232 characters\n",
      "27 unique characters (not)\n",
      "27 unique characters (spam)\n",
      "vocab_not: [' ', 'a', 'b', 'c', 'd', 'e', 'f', 'g', 'h', 'i', 'j', 'k', 'l', 'm', 'n', 'o', 'p', 'q', 'r', 's', 't', 'u', 'v', 'w', 'x', 'y', 'z']\n",
      "vocab_spam: [' ', 'a', 'b', 'c', 'd', 'e', 'f', 'g', 'h', 'i', 'j', 'k', 'l', 'm', 'n', 'o', 'p', 'q', 'r', 's', 't', 'u', 'v', 'w', 'x', 'y', 'z']\n"
     ]
    }
   ],
   "source": [
    "import nltk\n",
    "from nltk.tokenize import RegexpTokenizer\n",
    "from nltk.stem import WordNetLemmatizer,PorterStemmer\n",
    "from nltk.corpus import stopwords\n",
    "import re\n",
    "nltk.download('stopwords')\n",
    "nltk.download('wordnet')\n",
    "lemmatizer = WordNetLemmatizer()\n",
    "stemmer = PorterStemmer() \n",
    "\n",
    "def preprocess(sentence):\n",
    "  sentence=str(sentence)\n",
    "  sentence = sentence.lower()\n",
    "  sentence=sentence.replace('{html}',\"\") \n",
    "  cleanr = re.compile('<.*?>')\n",
    "  cleantext = re.sub(cleanr, '', sentence)\n",
    "  rem_url=re.sub(r'http\\S+', '',cleantext)\n",
    "  rem_num = re.sub('[0-9]+', '', rem_url)\n",
    "  tokenizer = RegexpTokenizer(r'\\w+')\n",
    "  tokens = tokenizer.tokenize(rem_num)  \n",
    "  filtered_words = [w for w in tokens if len(w) > 2 if not w in stopwords.words('english')]\n",
    "  res = [idx for idx in filtered_words if not re.findall(\"[^\\u0000-\\u05C0\\u2100-\\u214F]+\", idx)]\n",
    "  return \" \".join(res)\n",
    "\n",
    "df['Tweet'] = df['Tweet'].map(lambda s:preprocess(s)) \n",
    "df['Tweet'] = df['Tweet'].apply(lambda x: replace_links(x))\n",
    "df['Tweet'] = df['Tweet'].str.replace('[^\\w\\s]','')\n",
    "df['Tweet'] = df['Tweet'].str.replace('[^a-zA-Z ]', '')\n",
    "df['Tweet'] = df['Tweet'].str.replace('_',' ')\n",
    "print(df['Tweet'])\n",
    "\n",
    "df['is_spam'] = df['Type'].map({\"Quality\": 0, \"Spam\":1})\n",
    "\n",
    "# Splitting into training and test datasets\n",
    "X_train, X_test, y_train, y_test = sk.model_selection.train_test_split(df['Tweet'], df['is_spam'], test_size=0.2,random_state=42)\n",
    "\n",
    "X_train_not = X_train[y_train.isin([0])]\n",
    "X_train_spam = X_train[y_train.isin([1])]\n",
    "\n",
    "text_not = X_train_not.str.pad(width=240, side='right', fillchar=' ').str.cat(sep=' ')\n",
    "text_spam = X_train_spam.str.pad(width=240, side='right', fillchar=' ').str.cat(sep=' ')\n",
    "\n",
    "# print(text_not[0:500])\n",
    "# print(text_spam[0:500])\n",
    "print('Length of text_not: {} characters'.format(len(text_not)))\n",
    "print('Length of text_spam: {} characters'.format(len(text_spam)))\n",
    "\n",
    "# The unique characters in the file\n",
    "vocab_not = sorted(set(text_not))\n",
    "vocab_spam = sorted(set(text_spam))\n",
    "\n",
    "print('{} unique characters (not)'.format(len(vocab_not)))\n",
    "print('{} unique characters (spam)'.format(len(vocab_spam)))\n",
    "print('vocab_not:', vocab_not)\n",
    "print('vocab_spam:', vocab_spam)"
   ]
  },
  {
   "cell_type": "code",
   "execution_count": 5,
   "metadata": {
    "colab": {
     "base_uri": "https://localhost:8080/"
    },
    "executionInfo": {
     "elapsed": 442,
     "status": "ok",
     "timestamp": 1650765857770,
     "user": {
      "displayName": "Shyam Venkatasubramanian",
      "userId": "15616447234628228064"
     },
     "user_tz": 240
    },
    "id": "1NvzNSq7QwT-",
    "outputId": "d14cf71e-5d13-45fa-c246-ff739db457ab"
   },
   "outputs": [
    {
     "name": "stdout",
     "output_type": "stream",
     "text": [
      "[' ' 'a' 'b' 'c' 'd' 'e' 'f' 'g' 'h' 'i' 'j' 'k' 'l' 'm' 'n' 'o' 'p' 'q'\n",
      " 'r' 's' 't' 'u' 'v' 'w' 'x' 'y' 'z']\n",
      "'push power hits' --> array([16, 21, 19,  8,  0, 16, 15, 23,  5, 18,  0,  8,  9, 20, 19])\n"
     ]
    }
   ],
   "source": [
    "# Map characters to their indices in vocabulary.\n",
    "char2index_not = {char: index for index, char in enumerate(vocab_not)}\n",
    "char2index_spam = {char: index for index, char in enumerate(vocab_spam)}\n",
    "\n",
    "# print('{')\n",
    "# for char, _ in zip(char2index, range(20)):\n",
    "#     print('  {:4s}: {:3d},'.format(repr(char), char2index[char]))\n",
    "# print('  ...\\n}')\n",
    "\n",
    "# Map character indices to characters from vocabulary.\n",
    "index2char_not = np.array(vocab_not)\n",
    "index2char_spam = np.array(vocab_spam)\n",
    "print(index2char_not)\n",
    "\n",
    "# Convert chars in text to indices.\n",
    "text_as_int_not = np.array([char2index_not[char] for char in text_not])\n",
    "text_as_int_spam = np.array([char2index_spam[char] for char in text_spam])\n",
    "print('{} --> {}'.format(repr(text_spam[:15]), repr(text_as_int_spam[:15])))"
   ]
  },
  {
   "cell_type": "markdown",
   "metadata": {
    "id": "15F1oG33QtYA"
   },
   "source": [
    "### Generator"
   ]
  },
  {
   "cell_type": "code",
   "execution_count": 6,
   "metadata": {
    "colab": {
     "base_uri": "https://localhost:8080/"
    },
    "executionInfo": {
     "elapsed": 4283,
     "status": "ok",
     "timestamp": 1650765862052,
     "user": {
      "displayName": "Shyam Venkatasubramanian",
      "userId": "15616447234628228064"
     },
     "user_tz": 240
    },
    "id": "TbgWFHZnPEgH",
    "outputId": "96c36124-9dd2-4a17-bac6-ac7cd9a687bb"
   },
   "outputs": [
    {
     "name": "stdout",
     "output_type": "stream",
     "text": [
      "examples_per_epoch (not): 4954\n",
      "examples_per_epoch (spam): 4619\n",
      "Sequences count (not): 4954\n",
      "Sequences count (spam): 4619\n",
      "\n",
      "'push power hits hit songs genres                                                                                                                                                                                                                 '\n",
      "'selling drugs facebook easy case police pull                                                                                                                                                                                                     '\n",
      "'brazil enlists army cabinet campaign zika health                                                                                                                                                                                                 '\n"
     ]
    }
   ],
   "source": [
    "# The maximum length sentence we want for a single input in characters.\n",
    "sequence_length = 240\n",
    "examples_per_epoch_not = len(text_not) // (sequence_length + 1)\n",
    "examples_per_epoch_spam = len(text_spam) // (sequence_length + 1)\n",
    "\n",
    "print('examples_per_epoch (not):', examples_per_epoch_not)\n",
    "print('examples_per_epoch (spam):', examples_per_epoch_spam)\n",
    "\n",
    "# Create training dataset.\n",
    "char_dataset_not = tf.data.Dataset.from_tensor_slices(text_as_int_not)\n",
    "char_dataset_spam = tf.data.Dataset.from_tensor_slices(text_as_int_spam)\n",
    "\n",
    "# Generate batched sequences out of the char_dataset.\n",
    "sequences_not = char_dataset_not.batch(sequence_length + 1, drop_remainder=True)\n",
    "sequences_spam = char_dataset_spam.batch(sequence_length + 1, drop_remainder=True)\n",
    "\n",
    "# Sequences size is the same as examples_per_epoch.\n",
    "print('Sequences count (not): {}'.format(len(list(sequences_not.as_numpy_iterator()))));\n",
    "print('Sequences count (spam): {}'.format(len(list(sequences_spam.as_numpy_iterator()))));\n",
    "print()\n",
    "\n",
    "# Sequences examples (spam).\n",
    "for item in sequences_spam.take(3): print(repr(''.join(index2char_spam[item.numpy()])))"
   ]
  },
  {
   "cell_type": "code",
   "execution_count": 7,
   "metadata": {
    "colab": {
     "base_uri": "https://localhost:8080/"
    },
    "executionInfo": {
     "elapsed": 6064,
     "status": "ok",
     "timestamp": 1650765868114,
     "user": {
      "displayName": "Shyam Venkatasubramanian",
      "userId": "15616447234628228064"
     },
     "user_tz": 240
    },
    "id": "Hdhf2TX9WDHF",
    "outputId": "cad3a452-ff73-43e2-e384-27787954c983"
   },
   "outputs": [
    {
     "name": "stdout",
     "output_type": "stream",
     "text": [
      "Batched dataset size (not): 77\n",
      "Batched dataset size (spam): 72\n",
      "1st batch: input_text: tf.Tensor(\n",
      "[[ 0  0  0 ...  0  0  0]\n",
      " [ 7 18  1 ...  0  0  0]\n",
      " [ 0  0  0 ...  0  0  0]\n",
      " ...\n",
      " [20 18 21 ...  0  0  0]\n",
      " [ 0  0  0 ...  0  0  0]\n",
      " [ 0  0  0 ...  0  0  0]], shape=(64, 240), dtype=int32)\n",
      "\n",
      "1st batch: target_text: tf.Tensor(\n",
      "[[ 0  0  0 ...  0  0  0]\n",
      " [18  1 25 ...  0  0  0]\n",
      " [ 0  0  0 ...  0  0  0]\n",
      " ...\n",
      " [18 21 13 ...  0  0  0]\n",
      " [ 0  0  0 ...  0  0  0]\n",
      " [ 0  0  0 ...  0  0  0]], shape=(64, 240), dtype=int32)\n"
     ]
    }
   ],
   "source": [
    "def split_input_target(chunk):\n",
    "    input_text = chunk[:-1]\n",
    "    target_text = chunk[1:]\n",
    "    return input_text, target_text\n",
    "\n",
    "dataset_not = sequences_not.map(split_input_target)\n",
    "dataset_spam = sequences_spam.map(split_input_target)\n",
    "\n",
    "# Batch size.\n",
    "BATCH_SIZE = 64\n",
    "\n",
    "# Buffer size to shuffle the dataset (TF data is designed to work\n",
    "# with possibly infinite sequences, so it doesn't attempt to shuffle\n",
    "# the entire sequence in memory. Instead, it maintains a buffer in\n",
    "# which it shuffles elements).\n",
    "BUFFER_SIZE = 10000\n",
    "\n",
    "dataset_not = dataset_not.shuffle(BUFFER_SIZE).batch(BATCH_SIZE, drop_remainder=True)\n",
    "dataset_spam = dataset_spam.shuffle(BUFFER_SIZE).batch(BATCH_SIZE, drop_remainder=True)\n",
    "\n",
    "print('Batched dataset size (not): {}'.format(len(list(dataset_not.as_numpy_iterator()))))\n",
    "print('Batched dataset size (spam): {}'.format(len(list(dataset_spam.as_numpy_iterator()))))\n",
    "\n",
    "for input_text, target_text in dataset_spam.take(1):\n",
    "    print('1st batch: input_text:', input_text)\n",
    "    print()\n",
    "    print('1st batch: target_text:', target_text)"
   ]
  },
  {
   "cell_type": "code",
   "execution_count": 8,
   "metadata": {
    "executionInfo": {
     "elapsed": 3,
     "status": "ok",
     "timestamp": 1650765868114,
     "user": {
      "displayName": "Shyam Venkatasubramanian",
      "userId": "15616447234628228064"
     },
     "user_tz": 240
    },
    "id": "9GVGwBljZxOi"
   },
   "outputs": [],
   "source": [
    "# Length of the vocabulary in chars.\n",
    "vocab_size_not = len(vocab_not)\n",
    "vocab_size_spam = len(vocab_spam)\n",
    "\n",
    "# The embedding dimension.\n",
    "embedding_dim = 256\n",
    "\n",
    "# Number of RNN units.\n",
    "rnn_units = 1024\n",
    "\n",
    "def build_model(vocab_size, embedding_dim, rnn_units, BATCH_SIZE):\n",
    "    model = tf.keras.models.Sequential()\n",
    "\n",
    "    model.add(tf.keras.layers.Embedding(\n",
    "      input_dim=vocab_size,\n",
    "      output_dim=embedding_dim,\n",
    "      batch_input_shape=[BATCH_SIZE, None]\n",
    "    ))\n",
    "\n",
    "    model.add(tf.keras.layers.LSTM(\n",
    "      units=rnn_units,\n",
    "      return_sequences=True,\n",
    "      stateful=True,\n",
    "      recurrent_initializer=tf.keras.initializers.GlorotNormal()\n",
    "    ))\n",
    "\n",
    "    model.add(tf.keras.layers.Dense(vocab_size))\n",
    "  \n",
    "    return model"
   ]
  },
  {
   "cell_type": "code",
   "execution_count": 9,
   "metadata": {
    "executionInfo": {
     "elapsed": 1046,
     "status": "ok",
     "timestamp": 1650765869158,
     "user": {
      "displayName": "Shyam Venkatasubramanian",
      "userId": "15616447234628228064"
     },
     "user_tz": 240
    },
    "id": "YrMpUcOXaK7e"
   },
   "outputs": [],
   "source": [
    "model_not = build_model(vocab_size_not, embedding_dim, rnn_units, BATCH_SIZE)\n",
    "model_spam = build_model(vocab_size_spam, embedding_dim, rnn_units, BATCH_SIZE)\n",
    "\n",
    "# keras.utils.vis_utils.pydot = pydotplus\n",
    "# plot_model(\n",
    "#     model_spam,\n",
    "#     show_shapes=True,\n",
    "#     show_layer_names=True,\n",
    "# )"
   ]
  },
  {
   "cell_type": "code",
   "execution_count": 10,
   "metadata": {
    "executionInfo": {
     "elapsed": 3,
     "status": "ok",
     "timestamp": 1650765869158,
     "user": {
      "displayName": "Shyam Venkatasubramanian",
      "userId": "15616447234628228064"
     },
     "user_tz": 240
    },
    "id": "W2CGY903adfS"
   },
   "outputs": [],
   "source": [
    "# An objective function.\n",
    "# The function is any callable with the signature scalar_loss = fn(y_true, y_pred).\n",
    "def loss(labels, logits):\n",
    "    return tf.keras.losses.sparse_categorical_crossentropy(\n",
    "      y_true=labels,\n",
    "      y_pred=logits,\n",
    "      from_logits=True\n",
    "    )\n",
    "\n",
    "adam_optimizer = tf.keras.optimizers.Adam(learning_rate=0.001)\n",
    "model_spam.compile(\n",
    "    optimizer=adam_optimizer,\n",
    "    loss=loss\n",
    ")"
   ]
  },
  {
   "cell_type": "code",
   "execution_count": 11,
   "metadata": {
    "executionInfo": {
     "elapsed": 4,
     "status": "ok",
     "timestamp": 1650765869159,
     "user": {
      "displayName": "Shyam Venkatasubramanian",
      "userId": "15616447234628228064"
     },
     "user_tz": 240
    },
    "id": "quh75GbHa-OM"
   },
   "outputs": [],
   "source": [
    "# Directory where the checkpoints will be saved.\n",
    "checkpoint_dir = 'tmp_3/checkpoints'\n",
    "os.makedirs(checkpoint_dir, exist_ok=True)\n",
    "\n",
    "# Name of the checkpoint files\n",
    "checkpoint_prefix = os.path.join(checkpoint_dir, 'ckpt_{epoch}')\n",
    "\n",
    "checkpoint_callback=tf.keras.callbacks.ModelCheckpoint(\n",
    "    filepath=checkpoint_prefix,\n",
    "    save_weights_only=True\n",
    ")"
   ]
  },
  {
   "cell_type": "markdown",
   "metadata": {
    "id": "C47YS7JMfuri"
   },
   "source": [
    "#### Training Model - Spam"
   ]
  },
  {
   "cell_type": "code",
   "execution_count": 12,
   "metadata": {
    "colab": {
     "base_uri": "https://localhost:8080/"
    },
    "id": "t203A5UzRzTO",
    "outputId": "906c20ab-a984-47f5-f33c-233c8be671fa"
   },
   "outputs": [
    {
     "name": "stdout",
     "output_type": "stream",
     "text": [
      "Epoch 1/45\n",
      "72/72 [==============================] - 815s 11s/step - loss: 0.9865\n",
      "Epoch 2/45\n",
      "72/72 [==============================] - 1259s 17s/step - loss: 0.7503\n",
      "Epoch 3/45\n",
      "72/72 [==============================] - 1106s 15s/step - loss: 0.6988\n",
      "Epoch 4/45\n",
      "72/72 [==============================] - 1086s 15s/step - loss: 0.6542\n",
      "Epoch 5/45\n",
      "72/72 [==============================] - 856s 12s/step - loss: 0.6328\n",
      "Epoch 6/45\n",
      "72/72 [==============================] - 880s 12s/step - loss: 0.6182\n",
      "Epoch 7/45\n",
      "72/72 [==============================] - 984s 14s/step - loss: 0.6076\n",
      "Epoch 8/45\n",
      "72/72 [==============================] - 1173s 16s/step - loss: 0.5979\n",
      "Epoch 9/45\n",
      "72/72 [==============================] - 1088s 15s/step - loss: 0.5892\n",
      "Epoch 10/45\n",
      "72/72 [==============================] - 981s 14s/step - loss: 0.5811\n",
      "Epoch 11/45\n",
      "72/72 [==============================] - 937s 13s/step - loss: 0.5731\n",
      "Epoch 12/45\n",
      "72/72 [==============================] - 890s 12s/step - loss: 0.5642\n",
      "Epoch 13/45\n",
      "72/72 [==============================] - 870s 12s/step - loss: 0.5558\n",
      "Epoch 14/45\n",
      "72/72 [==============================] - 897s 12s/step - loss: 0.5461\n",
      "Epoch 15/45\n",
      "72/72 [==============================] - 915s 13s/step - loss: 0.5364\n",
      "Epoch 16/45\n",
      "72/72 [==============================] - 888s 12s/step - loss: 0.5263\n",
      "Epoch 17/45\n",
      "72/72 [==============================] - 914s 13s/step - loss: 0.5152\n",
      "Epoch 18/45\n",
      "72/72 [==============================] - 838s 12s/step - loss: 0.5038\n",
      "Epoch 19/45\n",
      "72/72 [==============================] - 934s 13s/step - loss: 0.4924\n",
      "Epoch 20/45\n",
      "72/72 [==============================] - 820s 11s/step - loss: 0.4820\n",
      "Epoch 21/45\n",
      "72/72 [==============================] - 837s 12s/step - loss: 0.4697\n",
      "Epoch 22/45\n",
      "72/72 [==============================] - 917s 13s/step - loss: 0.4588\n",
      "Epoch 23/45\n",
      "72/72 [==============================] - 1159s 16s/step - loss: 0.4478\n",
      "Epoch 24/45\n",
      "72/72 [==============================] - 994s 14s/step - loss: 0.4367\n",
      "Epoch 25/45\n",
      "72/72 [==============================] - 835s 12s/step - loss: 0.4263\n",
      "Epoch 26/45\n",
      "72/72 [==============================] - 970s 13s/step - loss: 0.4161\n",
      "Epoch 27/45\n",
      "72/72 [==============================] - 959s 13s/step - loss: 0.4068\n",
      "Epoch 28/45\n",
      "72/72 [==============================] - 1075s 15s/step - loss: 0.3962\n",
      "Epoch 29/45\n",
      "72/72 [==============================] - 1002s 14s/step - loss: 0.3862\n",
      "Epoch 30/45\n",
      "72/72 [==============================] - 958s 13s/step - loss: 0.3769\n",
      "Epoch 31/45\n",
      "72/72 [==============================] - 898s 12s/step - loss: 0.3667\n",
      "Epoch 32/45\n",
      "72/72 [==============================] - 1029s 14s/step - loss: 0.3568\n",
      "Epoch 33/45\n",
      "72/72 [==============================] - 1124s 16s/step - loss: 0.3468\n",
      "Epoch 34/45\n",
      "72/72 [==============================] - 857s 12s/step - loss: 0.3357\n",
      "Epoch 35/45\n",
      "72/72 [==============================] - 767s 11s/step - loss: 0.3240\n",
      "Epoch 36/45\n",
      "72/72 [==============================] - 736s 10s/step - loss: 0.3130\n",
      "Epoch 37/45\n",
      "72/72 [==============================] - 757s 11s/step - loss: 0.3008\n",
      "Epoch 38/45\n",
      "72/72 [==============================] - 707s 10s/step - loss: 0.2882\n",
      "Epoch 39/45\n",
      "72/72 [==============================] - 719s 10s/step - loss: 0.2766\n",
      "Epoch 40/45\n",
      "72/72 [==============================] - 721s 10s/step - loss: 0.2619\n",
      "Epoch 41/45\n",
      "72/72 [==============================] - 753s 10s/step - loss: 0.2491\n",
      "Epoch 42/45\n",
      "72/72 [==============================] - 763s 11s/step - loss: 0.2343\n",
      "Epoch 43/45\n",
      "72/72 [==============================] - 799s 11s/step - loss: 0.2191\n",
      "Epoch 44/45\n",
      "72/72 [==============================] - 798s 11s/step - loss: 0.2056\n",
      "Epoch 45/45\n",
      "72/72 [==============================] - 751s 10s/step - loss: 0.1930\n"
     ]
    },
    {
     "data": {
      "image/png": "[encoded data removed]",
      "text/plain": [
       "<Figure size 432x288 with 1 Axes>"
      ]
     },
     "metadata": {
      "needs_background": "light"
     },
     "output_type": "display_data"
    }
   ],
   "source": [
    "with tf.device('/device:GPU:0'):\n",
    "    EPOCHS=45\n",
    "    history = model_spam.fit(\n",
    "      x = dataset_spam,\n",
    "      epochs = EPOCHS,\n",
    "      callbacks = [\n",
    "        checkpoint_callback\n",
    "      ]\n",
    "    )\n",
    "\n",
    "def render_training_history(training_history):\n",
    "    loss = training_history.history['loss']\n",
    "    plt.title('Loss')\n",
    "    plt.xlabel('Epoch')\n",
    "    plt.ylabel('Loss')\n",
    "    plt.plot(loss, label='Training set')\n",
    "    plt.legend()\n",
    "    plt.grid(linestyle='--', linewidth=1, alpha=0.5)\n",
    "    plt.show()\n",
    "\n",
    "render_training_history(history)"
   ]
  },
  {
   "cell_type": "markdown",
   "metadata": {
    "id": "OpygRHNkfxHt"
   },
   "source": [
    "#### Generating Text - Spam"
   ]
  },
  {
   "cell_type": "code",
   "execution_count": 13,
   "metadata": {
    "colab": {
     "base_uri": "https://localhost:8080/",
     "height": 234
    },
    "executionInfo": {
     "elapsed": 266,
     "status": "error",
     "timestamp": 1650790904595,
     "user": {
      "displayName": "Shyam Venkatasubramanian",
      "userId": "15616447234628228064"
     },
     "user_tz": 240
    },
    "id": "tUEVSxGwSFNS",
    "outputId": "363248ca-1f9e-4be0-9175-54affffb56ea"
   },
   "outputs": [],
   "source": [
    "tf.train.latest_checkpoint(checkpoint_dir)\n",
    "\n",
    "simplified_batch_size = 1\n",
    "\n",
    "model_spam = build_model(vocab_size_spam, embedding_dim, rnn_units, BATCH_SIZE=1)\n",
    "\n",
    "model_spam.load_weights(tf.train.latest_checkpoint(checkpoint_dir))\n",
    "\n",
    "model_spam.build(tf.TensorShape([simplified_batch_size, None]))"
   ]
  },
  {
   "cell_type": "code",
   "execution_count": 14,
   "metadata": {
    "id": "gHIFxCgjwQgJ"
   },
   "outputs": [],
   "source": [
    "# num_generate\n",
    "# - number of characters to generate.\n",
    "#\n",
    "# temperature\n",
    "# - Low temperatures results in more predictable text.\n",
    "# - Higher temperatures results in more surprising text.\n",
    "# - Experiment to find the best setting.\n",
    "def generate_text(model, start_string, char2index, index2char, num_generate = 240, temperature=1.0):\n",
    "    # Evaluation step (generating text using the learned model)\n",
    "\n",
    "    # Converting our start string to numbers (vectorizing).\n",
    "    input_indices = [char2index[s] for s in start_string]\n",
    "    input_indices = tf.expand_dims(input_indices, 0)\n",
    "\n",
    "    # Empty string to store our results.\n",
    "    text_generated = []\n",
    "\n",
    "    # Here batch size == 1.\n",
    "    model.reset_states()\n",
    "    for char_index in range(num_generate):\n",
    "        predictions = model(input_indices)\n",
    "        # remove the batch dimension\n",
    "        predictions = tf.squeeze(predictions, 0)\n",
    "\n",
    "        # Using a categorical distribution to predict the character returned by the model.\n",
    "        predictions = predictions / temperature\n",
    "        predicted_id = tf.random.categorical(\n",
    "        predictions,\n",
    "        num_samples=1\n",
    "        )[-1,0].numpy()\n",
    "\n",
    "        # We pass the predicted character as the next input to the model\n",
    "        # along with the previous hidden state.\n",
    "        input_indices = tf.expand_dims([predicted_id], 0)\n",
    "\n",
    "        text_generated.append(index2char[predicted_id])\n",
    "\n",
    "    return (start_string + ''.join(text_generated))"
   ]
  },
  {
   "cell_type": "code",
   "execution_count": 19,
   "metadata": {
    "id": "N0KWPLvtf-L1"
   },
   "outputs": [
    {
     "name": "stdout",
     "output_type": "stream",
     "text": [
      "                                     china opanands speaks see hillary clinton consisale pringerson                                                                                                                                              \n",
      "                  playing someone guy savedy face holder election                                                                                                                                                                                \n",
      "                       meet regille minuten unprecters sex years social secretive yrashcast                                                                                                                                                      \n",
      "                            leterand engense genewa mother major purpler confirmed sonicce detaired keren cut lies                                                                                                                               \n",
      "               topnews politicust net talk road insuree pjnet texas                                                                                                                                                                              \n",
      "                      waynedclinton like done dailys protests know illegal bringwheasthearh incledable wrivethew babaistrain americabia truitybegrade                                                                                            \n",
      "             glay walking someone else says currently seems keep excellent hate via toed                                                                                                                                                         \n",
      "                          fire favor unren embe first everything                                                                                                                                                                                 \n",
      "       hape hosting donate square police boy proful                                                                                                                                                                                              \n",
      "                 michelen absolute crashing project another plan                                                                                                                                                                                 \n"
     ]
    }
   ],
   "source": [
    "first_spam = X_train_spam.str.split().str[:3].str.join(sep=\" \")\n",
    "# Generate the text with default temperature (1.0).\n",
    "for idx, row in enumerate(first_spam[0:10]):\n",
    "  print(generate_text(model_spam, start_string=\" \", char2index = char2index_spam, index2char = index2char_spam))"
   ]
  },
  {
   "cell_type": "code",
   "execution_count": 20,
   "metadata": {},
   "outputs": [
    {
     "name": "stdout",
     "output_type": "stream",
     "text": [
      "0\n",
      "500\n",
      "1000\n"
     ]
    }
   ],
   "source": [
    "spam = []\n",
    "first_spam = (X_train_spam.str.split().str[:2].str.join(sep=\" \")).sample(frac=1)\n",
    "# Generate the text with default temperature (1.0).\n",
    "for idx, row in enumerate(first_spam[0:1250]):\n",
    "    if idx % 500 == 0: print(idx)\n",
    "    spam.append(generate_text(model_spam, start_string=\" \", char2index = char2index_not, index2char = index2char_not))\n",
    "\n",
    "spam_df = pd.DataFrame(spam, columns = ['Tweet'])\n",
    "\n",
    "from pathlib import Path\n",
    "filepath = Path('output/spam.csv')  \n",
    "filepath.parent.mkdir(parents=True, exist_ok=True)  \n",
    "spam_df.to_csv(filepath)"
   ]
  },
  {
   "cell_type": "code",
   "execution_count": null,
   "metadata": {},
   "outputs": [],
   "source": []
  }
 ],
 "metadata": {
  "colab": {
   "authorship_tag": "ABX9TyNO39ZpcWiIxVBdb9YxvQ1h",
   "collapsed_sections": [
    "YnUy4uo4IJdL"
   ],
   "name": "STA_561_Generator_Spam.ipynb",
   "provenance": []
  },
  "kernelspec": {
   "display_name": "Python 3",
   "language": "python",
   "name": "python3"
  },
  "language_info": {
   "codemirror_mode": {
    "name": "ipython",
    "version": 3
   },
   "file_extension": ".py",
   "mimetype": "text/x-python",
   "name": "python",
   "nbconvert_exporter": "python",
   "pygments_lexer": "ipython3",
   "version": "3.8.3"
  }
 },
 "nbformat": 4,
 "nbformat_minor": 1
}
